{
 "cells": [
  {
   "cell_type": "markdown",
   "metadata": {},
   "source": [
    "### 赤いロボット（捕食者）を追加する"
   ]
  },
  {
   "cell_type": "code",
   "execution_count": 1,
   "metadata": {},
   "outputs": [],
   "source": [
    "import numpy as np\n",
    "import matplotlib.pyplot as plt\n",
    "from matplotlib import animation, rc\n",
    "import mpl_toolkits.mplot3d.axes3d as p3\n",
    "rc(\"animation\", html=\"jshtml\")"
   ]
  },
  {
   "cell_type": "code",
   "execution_count": 28,
   "metadata": {},
   "outputs": [],
   "source": [
    "# 反発力：衝突を回避する力\n",
    "def Fr(X, rr):\n",
    "    fr = np.array([])\n",
    "    for i in np.arange(len(X)):\n",
    "        # i番目のロボット\n",
    "        fr_i = np.array([])\n",
    "        for j in np.arange(len(X)):\n",
    "            if i != j: \n",
    "                # Xi-Xj\n",
    "                molecule = X[i] - X[j] \n",
    "                # 反発力が働く場合：反発する\n",
    "                if np.linalg.norm(molecule) < rr:\n",
    "                    norm = np.linalg.norm(molecule) ** 2\n",
    "                    molecule_norm = molecule/norm\n",
    "                # 反発しない場合：近くにロボットがいない\n",
    "                else:\n",
    "                    molecule_norm = np.array([0.0, 0.0, 0.0])\n",
    "                fr_i = np.append(fr_i, (molecule_norm))\n",
    "        fr = np.append(fr, fr_i.reshape(len(X)-1, 3).sum(0))\n",
    "    return fr.reshape(len(X), 3)\n",
    "\n",
    "# 整列力：同じ方向に移動する力\n",
    "def Fa(X, V, ra):\n",
    "    a = V - V[:, None]\n",
    "    b = (np.linalg.norm(X-X[:, None], axis=2)<ra).astype(np.int)\n",
    "    return (a * b).sum(0)\n",
    "\n",
    "# 結合力：群れの中心に集まる力\n",
    "def Fh(X):\n",
    "    Xh = X.sum(0) / (len(X)-1)\n",
    "    return Xh - X\n",
    "\n",
    "# 抵抗力：移動する際にかかる力\n",
    "def Ff(V, s=10):\n",
    "    return -V*(np.linalg.norm(V, axis=1).reshape(len(V), 1) - s)/s\n",
    "\n",
    "# 回避力：捕食者から襲われた際に逃げる力\n",
    "def Fp(X, xp, rp):\n",
    "    fpi = np.array([])\n",
    "    for i in np.arange(len(X)):\n",
    "        Xi_Xp = rp - np.linalg.norm(X[i] - xp)\n",
    "        if Xi_Xp > 0:\n",
    "            molu_norm_2 = (X[i]-xp) / (np.linalg.norm(X[i]-xp) ** 2)\n",
    "            # print(\"回避行動！\", molu_norm_2, \"Xi\", X[i], \"xp\", xp, Xi_Xp)\n",
    "        else:\n",
    "            molu_norm_2 = np.array([0.0, 0.0, 0.0])\n",
    "            # print(\"回避しない\", \"Xi\", X[i], \"xp\", xp, Xi_Xp)\n",
    "        fpi = np.append(fpi, molu_norm_2)\n",
    "    return fpi.reshape(len(X), 3)\n",
    "\n",
    "def F(X, V, xp, Ka=0.1, Kr=1.0, Kf=0.02, Kh=5, Kp=100, a=200, b=0.1, rr=1.0, ra=1.0, rp=2.0):\n",
    "    F = Kr*Fr(X, rr) + Kh*Fh(X) + Kf*Ff(V) # + Kp*Fp(X, xp, rp)\n",
    "    return F #a * np.tanh(b * F)"
   ]
  },
  {
   "cell_type": "code",
   "execution_count": 20,
   "metadata": {},
   "outputs": [],
   "source": [
    "def xp_move(X, xp, Er=3.0):\n",
    "    # 捕食者がロボットをとらえた場合，一番近いロボットを割り出す．\n",
    "    l = Er - np.linalg.norm(X - xp, axis=1)[:, None]\n",
    "    n = 50\n",
    "    if np.any(l>0):\n",
    "        # 一番近いロボットに飛びつく\n",
    "        near_x = np.argmin(np.where(l<0, np.abs(l)+Er, l))\n",
    "        xp = np.array([\n",
    "                        np.linspace(xp[0], X[near_x][0]+5, n),\n",
    "                        np.linspace(xp[1], X[near_x][1]+5, n),\n",
    "                        np.linspace(xp[2], X[near_x][2]+5, n)\n",
    "                    ]).reshape(n,3)\n",
    "    return xp, np.any(l>0)"
   ]
  },
  {
   "cell_type": "code",
   "execution_count": 4,
   "metadata": {
    "jupyter": {
     "source_hidden": true
    },
    "tags": []
   },
   "outputs": [],
   "source": [
    "from scipy.integrate import solve_ivp\n",
    "def lorenz63(t, arr_xyz, ss, rr, bb):\n",
    "    # 時刻t-1の値\n",
    "    x, y, z = arr_xyz\n",
    "    # Lorenz63モデルのパラメタ\n",
    "    s, r, b = ss, rr, bb\n",
    "\n",
    "    # 時刻tの値\n",
    "    dxdt = -s * (x-y)\n",
    "    dydt = -x*z + r*x -y\n",
    "    dzdt = x*y - b*z\n",
    "\n",
    "    return np.array([dxdt, dydt, dzdt])\n",
    "\n",
    "# def zscore(x, axis = None):\n",
    "#     # 平均値    \n",
    "#     xmean = x.mean(axis=axis, keepdims=True)\n",
    "#     # xp座標(x,y,z)の標準偏差\n",
    "#     xstd  = np.std(x, axis=axis, keepdims=True)\n",
    "#     # 標準化：標準偏差2，平均0\n",
    "#     zscore = (x-xmean)/xstd\n",
    "#     return zscore*2\n",
    "\n",
    "# --- 常微分方程式計算 --- #\n",
    "# scipy.integrate.solve_ivpでLorenz63モデルを計算\n",
    "def solver(xp):\n",
    "    time = 10\n",
    "    # solver = solve_ivp(fun=lorenz63, t_span=time_range, y0=xp, method=method, t_eval=time_step, dense_output=dense_output, args=lorent_srb)\n",
    "    solver = solve_ivp(fun=lorenz63, t_span=(0, time), y0=xp, method='RK45', t_eval=np.arange(0, time, 0.02), dense_output=True, args=(10, 26, 8/3))\n",
    "    # 変数入れ替え\n",
    "    xyz = solver.y\n",
    "    # データの形を変える：3,50 → 50,3，転置\n",
    "    xyz = xyz.T\n",
    "    # z座標だけ標準化\n",
    "    # xyz = zscore(xyz[2])\n",
    "\n",
    "    return xyz"
   ]
  },
  {
   "cell_type": "code",
   "execution_count": 12,
   "metadata": {
    "tags": []
   },
   "outputs": [],
   "source": [
    "import warnings\n",
    "warnings.filterwarnings('ignore')"
   ]
  },
  {
   "cell_type": "markdown",
   "metadata": {
    "tags": []
   },
   "source": [
    "# 3D ローレンツアトラクター"
   ]
  },
  {
   "cell_type": "raw",
   "metadata": {
    "jupyter": {
     "outputs_hidden": true
    },
    "tags": []
   },
   "source": [
    "N = 200\n",
    "X = np.random.randn(N, 3)*10\n",
    "V = np.random.randn(N, 3)\n",
    "dt = 0.02\n",
    "\n",
    "fig = plt.figure(figsize=(10, 10))\n",
    "ax = p3.Axes3D(fig)\n",
    "ims = []\n",
    "\n",
    "size = 25\n",
    "ax.set_xlim3d([-size, size])\n",
    "ax.set_ylim3d([-size, size])\n",
    "ax.set_zlim3d([-size, size])\n",
    "\n",
    "# 捕食者の軌跡\n",
    "xp_xtail = np.zeros(10)\n",
    "xp_ytail = np.zeros(10)\n",
    "\n",
    "xp = np.random.rand(3)\n",
    "xp = solver(xp)\n",
    "for t in np.arange(0, 1, dt):\n",
    "    # xp_xtail = np.append(xp.T[0][int(t*50)], np.delete(xp_xtail, -1))\n",
    "    # xp_ytail = np.append(xp.T[1][int(t*50)], np.delete(xp_ytail, -1))\n",
    "    \n",
    "    X = X + V * dt\n",
    "    V = V + F(X, V, xp[int(t*10)]) * dt\n",
    "\n",
    "    ims.append([ax.scatter(X[:, 0], X[:, 1], X[:, 2], c=\"b\", s=50),\n",
    "                ax.scatter(xp[int(t*50)][0], xp[int(t*50)][1], xp[int(t%50)][2], c=\"r\", s=100)])"
   ]
  },
  {
   "cell_type": "code",
   "execution_count": null,
   "metadata": {},
   "outputs": [],
   "source": [
    "N = 200\n",
    "X = np.random.randn(N, 3)*5\n",
    "V = np.random.randn(N, 3)\n",
    "dt = 0.02\n",
    "\n",
    "fig = plt.figure(figsize=(10, 10))\n",
    "ax = p3.Axes3D(fig)\n",
    "ims = []\n",
    "\n",
    "size = 10\n",
    "ax.set_xlim3d([-size, size])\n",
    "ax.set_ylim3d([-size, size])\n",
    "ax.set_zlim3d([-size, size])\n",
    "\n",
    "# 捕食者の軌跡\n",
    "xp_tail = np.zeros((10, 3))\n",
    "r = 5\n",
    "t = -5\n",
    "xp_n = np.array([np.cos(np.pi/30*50)*r, np.sin(np.pi/30*50)*r, t])\n",
    "\n",
    "count = 0\n",
    "state = 0  # 索敵状態：0, 捕獲状態：1\n",
    "for t in np.arange(0, dt, dt):\n",
    "#     if state == 0:\n",
    "#         xp, check = xp_move(X, xp_n)        \n",
    "#     if check or state==1: # 捕獲へ推移\n",
    "#         try:\n",
    "#             state = 1\n",
    "#             count += 1\n",
    "#             xp_n = xp[count]\n",
    "#         except IndexError:\n",
    "#             count = 0\n",
    "#             state = 0        \n",
    "            \n",
    "#     else: # 探索状態\n",
    "    # xp_n = np.array([np.cos(np.pi/30*(t*50))*r, np.sin(np.pi/30*t*50)*r, t])\n",
    "    # xp_tail = np.append(xp_n, np.delete(xp_tail, np.s_[-3:])).reshape(10, 3)\n",
    "    \n",
    "    X = X + V * dt\n",
    "    V = V + F(X, V, xp_n) * dt\n",
    "    \n",
    "    # ims.append([ax.scatter(X[:, 0], X[:, 1], X[:, 2], c=\"b\", s=50),\n",
    "    #             ax.scatter(xp_n[0], xp_n[1], xp_n[2], c=\"r\", s=50)] + ax.plot(xp_tail[:,0], xp_tail[:,1], xp_tail[:,2], c=\"slategrey\"))\n",
    "    \n",
    "    ims.append([ax.scatter(X[:, 0], X[:, 1], X[:, 2], c=\"b\", s=50)])"
   ]
  },
  {
   "cell_type": "code",
   "execution_count": null,
   "metadata": {},
   "outputs": [],
   "source": [
    "animation.ArtistAnimation(fig, ims, interval=50)"
   ]
  }
 ],
 "metadata": {
  "kernelspec": {
   "display_name": "Python 3 (ipykernel)",
   "language": "python",
   "name": "python3"
  },
  "language_info": {
   "codemirror_mode": {
    "name": "ipython",
    "version": 3
   },
   "file_extension": ".py",
   "mimetype": "text/x-python",
   "name": "python",
   "nbconvert_exporter": "python",
   "pygments_lexer": "ipython3",
   "version": "3.9.12"
  },
  "vscode": {
   "interpreter": {
    "hash": "1a94edab83e87768aafd73a201b7df25940c6a95851404a54636b30938c47b31"
   }
  }
 },
 "nbformat": 4,
 "nbformat_minor": 4
}
